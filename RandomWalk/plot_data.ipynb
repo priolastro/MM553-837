{
 "cells": [
  {
   "cell_type": "code",
   "execution_count": 1,
   "metadata": {},
   "outputs": [],
   "source": [
    "import numpy as np\n",
    "import matplotlib.pyplot as plt\n",
    "import subprocess \n",
    "import time"
   ]
  },
  {
   "cell_type": "code",
   "execution_count": 2,
   "metadata": {},
   "outputs": [
    {
     "data": {
      "text/plain": [
       "CompletedProcess(args='g++ -std=c++11 -O3 random_walk_2D.cc -o random_walk_2D.out', returncode=0)"
      ]
     },
     "execution_count": 2,
     "metadata": {},
     "output_type": "execute_result"
    }
   ],
   "source": [
    "subprocess.run('g++ -std=c++11 -O3 random_walk_2D.cc -o random_walk_2D.out', shell=True)"
   ]
  },
  {
   "cell_type": "markdown",
   "metadata": {},
   "source": [
    "10 Different random walks"
   ]
  },
  {
   "cell_type": "code",
   "execution_count": 3,
   "metadata": {},
   "outputs": [
    {
     "data": {
      "text/plain": [
       "<matplotlib.legend.Legend at 0x7f8d61ead790>"
      ]
     },
     "execution_count": 3,
     "metadata": {},
     "output_type": "execute_result"
    },
    {
     "data": {
      "image/png": "[encoded data removed]",
      "text/plain": [
       "<Figure size 432x288 with 1 Axes>"
      ]
     },
     "metadata": {
      "needs_background": "light"
     },
     "output_type": "display_data"
    }
   ],
   "source": [
    "simulation = str(10)\n",
    "steps = str(100)\n",
    "\n",
    "Average = []\n",
    "for i in range(1,10):\n",
    "    data = 'data' + str(i)\n",
    "    dataR = 'dataR'+str(i)\n",
    "    subprocess.run('./random_walk_2D.out' + ' ' + data + ' ' + dataR + ' ' + simulation + ' ' + steps, shell=True)\n",
    "    x, y = np.loadtxt(data, unpack=True)\n",
    "    av = np.average(np.loadtxt(dataR, unpack=True))\n",
    "    Average.append(av)\n",
    "    plt.plot(x,y, label='Random walk'+str(i))\n",
    "    time.sleep(1)\n",
    "plt.legend()\n"
   ]
  },
  {
   "cell_type": "code",
   "execution_count": 16,
   "metadata": {},
   "outputs": [
    {
     "data": {
      "text/plain": [
       "Text(0, 0.5, '<R^2>')"
      ]
     },
     "execution_count": 16,
     "metadata": {},
     "output_type": "execute_result"
    },
    {
     "data": {
      "image/png": "[encoded data removed]",
      "text/plain": [
       "<Figure size 432x288 with 1 Axes>"
      ]
     },
     "metadata": {
      "needs_background": "light"
     },
     "output_type": "display_data"
    }
   ],
   "source": [
    "Average = []\n",
    "N_list = []\n",
    "simulation = str(10)\n",
    "for N in range(10,100,100):\n",
    "    data = 'data'\n",
    "    dataR = 'dataR' + str(N)\n",
    "    subprocess.run('./random_walk_2D.out' + ' ' + data + ' ' + dataR + ' ' + simulation + ' ' + str(N), shell=True)\n",
    "    Average.append(np.log(np.average(np.loadtxt(dataR, unpack=True))))\n",
    "    N_list.append(np.log(N))\n",
    "\n",
    "plt.scatter(N_list, Average)\n",
    "plt.xlabel('ln N')\n",
    "plt.xlim(2,)\n",
    "plt.ylim(2,)\n",
    "plt.ylabel('<R^2>')\n"
   ]
  },
  {
   "cell_type": "code",
   "execution_count": null,
   "metadata": {},
   "outputs": [],
   "source": []
  }
 ],
 "metadata": {
  "interpreter": {
   "hash": "73df3d2a648ddfe6e132dd0b2981f8c5ee01eb57f65aaa52301d101a94b0ebb5"
  },
  "kernelspec": {
   "display_name": "Python 3.8.8 64-bit ('base': conda)",
   "language": "python",
   "name": "python3"
  },
  "language_info": {
   "codemirror_mode": {
    "name": "ipython",
    "version": 3
   },
   "file_extension": ".py",
   "mimetype": "text/x-python",
   "name": "python",
   "nbconvert_exporter": "python",
   "pygments_lexer": "ipython3",
   "version": "3.8.8"
  },
  "orig_nbformat": 4
 },
 "nbformat": 4,
 "nbformat_minor": 2
}
