{
 "cells": [
  {
   "cell_type": "code",
   "execution_count": 27,
   "metadata": {},
   "outputs": [
    {
     "output_type": "execute_result",
     "data": {
      "text/plain": "array([[-1, 20],\n       [-8, -9]])"
     },
     "metadata": {},
     "execution_count": 27
    }
   ],
   "source": [
    "import numpy as np\n",
    "A=np.array([[-3,-5],[2,-1]])\n",
    "#The square of this matrix using built-in functions is\n",
    "A@A\n",
    "np.dot(A,A)"
   ]
  },
  {
   "cell_type": "code",
   "execution_count": 28,
   "metadata": {},
   "outputs": [
    {
     "output_type": "execute_result",
     "data": {
      "text/plain": "array([[-1., 20.],\n       [-8., -9.]])"
     },
     "metadata": {},
     "execution_count": 28
    }
   ],
   "source": [
    "#The square of this matirx using loops is\n",
    "A_square = np.zeros((2,2))\n",
    "for i in range(len(A)):\n",
    "    for j in range(len(A)):\n",
    "        for k in range(len(A)):\n",
    "            A_square[i][j] += A[i][k]*A[k][j]\n",
    "A_square"
   ]
  },
  {
   "cell_type": "code",
   "execution_count": 33,
   "metadata": {},
   "outputs": [
    {
     "output_type": "execute_result",
     "data": {
      "text/plain": "array([[-159, -200],\n       [  80,  -79]])"
     },
     "metadata": {},
     "execution_count": 33
    }
   ],
   "source": [
    "#The square of the square of this matrix using built-in functions is\n",
    "A@A@A@A\n",
    "np.dot(A,np.dot(A,np.dot(A,A)))"
   ]
  },
  {
   "cell_type": "code",
   "execution_count": 34,
   "metadata": {},
   "outputs": [
    {
     "output_type": "execute_result",
     "data": {
      "text/plain": "array([[-159., -200.],\n       [  80.,  -79.]])"
     },
     "metadata": {},
     "execution_count": 34
    }
   ],
   "source": [
    "#The square of the square of this matirx using loops is\n",
    "A_square_square = np.zeros((2,2))\n",
    "for i in range(len(A)):  \n",
    "    for j in range(len(A)):\n",
    "        for k in range(len(A)):  \n",
    "            for l in range(len(A)): \n",
    "                for m in range(len(A)):\n",
    "                    A_square_square[i][j] += A[i][k]*A[k][l]*A[l][m]*A[m][j]\n",
    "A_square_square"
   ]
  },
  {
   "cell_type": "code",
   "execution_count": null,
   "metadata": {},
   "outputs": [],
   "source": []
  }
 ],
 "metadata": {
  "language_info": {
   "codemirror_mode": {
    "name": "ipython",
    "version": 3
   },
   "file_extension": ".py",
   "mimetype": "text/x-python",
   "name": "python",
   "nbconvert_exporter": "python",
   "pygments_lexer": "ipython3",
   "version": "3.7.4-final"
  },
  "orig_nbformat": 2,
  "kernelspec": {
   "name": "python3",
   "display_name": "Python 3"
  }
 },
 "nbformat": 4,
 "nbformat_minor": 2
}